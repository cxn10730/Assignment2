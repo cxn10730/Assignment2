{
  "nbformat": 4,
  "nbformat_minor": 0,
  "metadata": {
    "colab": {
      "provenance": [],
      "authorship_tag": "ABX9TyPQlm81hw7fZEHxgb2EGjjl",
      "include_colab_link": true
    },
    "kernelspec": {
      "name": "python3",
      "display_name": "Python 3"
    },
    "language_info": {
      "name": "python"
    }
  },
  "cells": [
    {
      "cell_type": "markdown",
      "metadata": {
        "id": "view-in-github",
        "colab_type": "text"
      },
      "source": [
        "<a href=\"https://colab.research.google.com/github/cxn10730/Assignment2/blob/main/Assignment2.ipynb\" target=\"_parent\"><img src=\"https://colab.research.google.com/assets/colab-badge.svg\" alt=\"Open In Colab\"/></a>"
      ]
    },
    {
      "cell_type": "code",
      "execution_count": 92,
      "metadata": {
        "colab": {
          "base_uri": "https://localhost:8080/"
        },
        "id": "DImCMEzrBc_I",
        "outputId": "3e511916-13c0-470f-d820-879cf9c7c8cd"
      },
      "outputs": [
        {
          "output_type": "stream",
          "name": "stdout",
          "text": [
            "*\n",
            "**\n",
            "***\n",
            "****\n",
            "*****\n",
            "****\n",
            "***\n",
            "**\n",
            "*\n",
            "\n"
          ]
        }
      ],
      "source": [
        "for i in range(0,5):\n",
        " for j in range(0,i+1):\n",
        "  print('*', end='')\n",
        " print('\\t')\n",
        "for i in range(5,0,-1):\n",
        " for j in range(0,i-1):\n",
        "  print('*',end='')\n",
        " print('\\t')  "
      ]
    },
    {
      "cell_type": "code",
      "source": [
        "my_list = [10, 20, 30, 40, 50, 60, 70, 80, 90, 100]\n",
        "print('my list is', my_list)\n",
        "print('elements prsent in odd indexes are:')\n",
        "for i in range(1,len(my_list),2):\n",
        " print(my_list[i])"
      ],
      "metadata": {
        "colab": {
          "base_uri": "https://localhost:8080/"
        },
        "id": "si-po83HBjrF",
        "outputId": "601f3e85-8f92-468e-bacf-091237f1d462"
      },
      "execution_count": 12,
      "outputs": [
        {
          "output_type": "stream",
          "name": "stdout",
          "text": [
            "my list is [10, 20, 30, 40, 50, 60, 70, 80, 90, 100]\n",
            "elements prsent in odd indexes are:\n",
            "20\n",
            "40\n",
            "60\n",
            "80\n",
            "100\n"
          ]
        }
      ]
    },
    {
      "cell_type": "code",
      "source": [
        "x=[23,'Python', 23.98]\n",
        "print('Input :',x)\n",
        "y=[]\n",
        "for i in range(len(x)):\n",
        "  y.append(type(x[i]))\n",
        "print('Expected Output:',x,y)"
      ],
      "metadata": {
        "colab": {
          "base_uri": "https://localhost:8080/"
        },
        "id": "oP8g6ecTBmyj",
        "outputId": "6f99485d-ec26-4239-eb8e-4dfe63b5afa8"
      },
      "execution_count": 101,
      "outputs": [
        {
          "output_type": "stream",
          "name": "stdout",
          "text": [
            "Input : [23, 'Python', 23.98]\n",
            "Expected Output: [23, 'Python', 23.98] [<class 'int'>, <class 'str'>, <class 'float'>]\n"
          ]
        }
      ]
    },
    {
      "cell_type": "code",
      "source": [
        "sample_list= [1,2,3,3,3,3,4,5]\n",
        "def unique_list(sample_list):\n",
        " print('Sample List :', sample_list)\n",
        " sample_set=set(sample_list)          \n",
        " unique_list=list(sample_set)                \n",
        " return unique_list\n",
        "print('unique List :', unique_list(sample_list))"
      ],
      "metadata": {
        "colab": {
          "base_uri": "https://localhost:8080/"
        },
        "id": "K8JeCTspLzZf",
        "outputId": "0c4a1be6-5298-4cfe-c91e-94a5f1197d67"
      },
      "execution_count": 59,
      "outputs": [
        {
          "output_type": "stream",
          "name": "stdout",
          "text": [
            "Sample List : [1, 2, 3, 3, 3, 3, 4, 5]\n",
            "unique List : [1, 2, 3, 4, 5]\n"
          ]
        }
      ]
    },
    {
      "cell_type": "code",
      "source": [
        "string = input(\"input string is\")\n",
        "def low_upper(string):\n",
        " upper_case = 0;\n",
        " lower_case = 0;\n",
        " for i in string:\n",
        "  if i.isupper():\n",
        "   upper_case +=1\n",
        "  elif i.islower():\n",
        "   lower_case +=1\n",
        "  else:\n",
        "   pass\n",
        " print(\"Input string is: \", string)\n",
        " print(\"Total number of uppercase letters: \", upper_case)\n",
        " print(\"Total number of lowercase letters: \", lower_case)\n",
        "low_upper(string)"
      ],
      "metadata": {
        "colab": {
          "base_uri": "https://localhost:8080/"
        },
        "id": "etX88U-3O4J0",
        "outputId": "1dea23c8-ebd0-42ac-9267-805b6b1dc236"
      },
      "execution_count": 109,
      "outputs": [
        {
          "output_type": "stream",
          "name": "stdout",
          "text": [
            "input string is'The quick Brow Fox'\n",
            "Input string is:  'The quick Brow Fox'\n",
            "Total number of uppercase letters:  3\n",
            "Total number of lowercase letters:  12\n"
          ]
        }
      ]
    }
  ]
}